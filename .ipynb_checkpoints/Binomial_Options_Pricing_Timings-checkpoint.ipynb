{
 "cells": [
  {
   "cell_type": "markdown",
   "metadata": {},
   "source": [
    "# This Jupyter Notebook is used to compare the time taken by Binomial Option Pricing Model in Python and Cython"
   ]
  },
  {
   "cell_type": "markdown",
   "metadata": {},
   "source": [
    "## Importing our Jarrow Rudd Binomial Options Pricing Method written in Python"
   ]
  },
  {
   "cell_type": "code",
   "execution_count": 1,
   "metadata": {},
   "outputs": [],
   "source": [
    "from binomial_pricing import jarrow_rudd_bp"
   ]
  },
  {
   "cell_type": "markdown",
   "metadata": {},
   "source": [
    "### Timing the function for combinations of Call & Put options and for American and European Options\n",
    "\n",
    "#### Structure of the function : \n",
    "##### jarrow_rudd_bp(s, k, t, v, rf, cp, am=False, n=100)\n",
    "Here,\n",
    "\n",
    "    s : initial stock price\n",
    "    k : strike price\n",
    "    t : time till expiration\n",
    "    v : volatility\n",
    "    rf : risk-free rate\n",
    "    cp : Flag +1/-1 for call/put respectively\n",
    "    am : Flag True/False for American/European Options\n",
    "    n : Number of binomial steps"
   ]
  },
  {
   "cell_type": "code",
   "execution_count": 2,
   "metadata": {},
   "outputs": [
    {
     "name": "stdout",
     "output_type": "stream",
     "text": [
      "4.51 ms ± 64.6 µs per loop (mean ± std. dev. of 7 runs, 100 loops each)\n"
     ]
    }
   ],
   "source": [
    "%timeit jarrow_rudd_bp(100.0, 100.0, 1.0, 0.3, 0.03, 1, False, 100)"
   ]
  },
  {
   "cell_type": "code",
   "execution_count": 3,
   "metadata": {},
   "outputs": [
    {
     "name": "stdout",
     "output_type": "stream",
     "text": [
      "4.5 ms ± 88.8 µs per loop (mean ± std. dev. of 7 runs, 100 loops each)\n"
     ]
    }
   ],
   "source": [
    "%timeit jarrow_rudd_bp(100.0, 100.0, 1.0, 0.3, 0.03, -1, False, 100)"
   ]
  },
  {
   "cell_type": "code",
   "execution_count": 4,
   "metadata": {},
   "outputs": [
    {
     "name": "stdout",
     "output_type": "stream",
     "text": [
      "8.12 ms ± 61.2 µs per loop (mean ± std. dev. of 7 runs, 100 loops each)\n"
     ]
    }
   ],
   "source": [
    "%timeit jarrow_rudd_bp(100.0, 100.0, 1.0, 0.3, 0.03, 1, True, 100)"
   ]
  },
  {
   "cell_type": "code",
   "execution_count": 5,
   "metadata": {},
   "outputs": [
    {
     "name": "stdout",
     "output_type": "stream",
     "text": [
      "8.05 ms ± 130 µs per loop (mean ± std. dev. of 7 runs, 100 loops each)\n"
     ]
    }
   ],
   "source": [
    "%timeit jarrow_rudd_bp(100.0, 100.0, 1.0, 0.3, 0.03, -1, True, 100)"
   ]
  },
  {
   "cell_type": "markdown",
   "metadata": {},
   "source": [
    "## Importing the required libraries to run Cython code"
   ]
  },
  {
   "cell_type": "code",
   "execution_count": 6,
   "metadata": {},
   "outputs": [],
   "source": [
    "import pyximport, numpy"
   ]
  },
  {
   "cell_type": "code",
   "execution_count": 7,
   "metadata": {},
   "outputs": [
    {
     "data": {
      "text/plain": [
       "(None, <pyximport.pyximport.PyxImporter at 0x7fb8f7be9f10>)"
      ]
     },
     "execution_count": 7,
     "metadata": {},
     "output_type": "execute_result"
    }
   ],
   "source": [
    "pyximport.install(setup_args=dict(include_dirs=[numpy.get_include()]))"
   ]
  },
  {
   "cell_type": "markdown",
   "metadata": {},
   "source": [
    "## Importing our Jarrow Rudd Binomial Options Pricing Method written in Cython"
   ]
  },
  {
   "cell_type": "code",
   "execution_count": 8,
   "metadata": {},
   "outputs": [],
   "source": [
    "from binomial_pricing_cython import jarrow_rudd_bp"
   ]
  },
  {
   "cell_type": "markdown",
   "metadata": {},
   "source": [
    "### Timing the function for combinations of Call & Put options and for American and European Options\n",
    "\n",
    "#### Structure of the function : \n",
    "##### jarrow_rudd_bp(double s, double k, double t, double v, double rf, double cp, int am=0, int n=100)\n",
    "Here,\n",
    "\n",
    "    s : initial stock price\n",
    "    k : strike price\n",
    "    t : time till expiration\n",
    "    v : volatility\n",
    "    rf : risk-free rate\n",
    "    cp : Flag +1/-1 for call/put respectively\n",
    "    am : Flag +1/-1 for American/European Options\n",
    "    n : Number of binomial steps"
   ]
  },
  {
   "cell_type": "code",
   "execution_count": 9,
   "metadata": {},
   "outputs": [
    {
     "name": "stdout",
     "output_type": "stream",
     "text": [
      "26.8 µs ± 1.06 µs per loop (mean ± std. dev. of 7 runs, 10000 loops each)\n"
     ]
    }
   ],
   "source": [
    "%timeit jarrow_rudd_bp(100.0, 100.0, 1.0, 0.3, 0.03, 1, -1, 100)"
   ]
  },
  {
   "cell_type": "code",
   "execution_count": 10,
   "metadata": {},
   "outputs": [
    {
     "name": "stdout",
     "output_type": "stream",
     "text": [
      "26.4 µs ± 641 ns per loop (mean ± std. dev. of 7 runs, 10000 loops each)\n"
     ]
    }
   ],
   "source": [
    "%timeit jarrow_rudd_bp(100.0, 100.0, 1.0, 0.3, 0.03, -1, -1, 100)"
   ]
  },
  {
   "cell_type": "code",
   "execution_count": 11,
   "metadata": {},
   "outputs": [
    {
     "name": "stdout",
     "output_type": "stream",
     "text": [
      "50.7 µs ± 603 ns per loop (mean ± std. dev. of 7 runs, 10000 loops each)\n"
     ]
    }
   ],
   "source": [
    "%timeit jarrow_rudd_bp(100.0, 100.0, 1.0, 0.3, 0.03, 1, 1, 100)"
   ]
  },
  {
   "cell_type": "code",
   "execution_count": 12,
   "metadata": {},
   "outputs": [
    {
     "name": "stdout",
     "output_type": "stream",
     "text": [
      "50.7 µs ± 649 ns per loop (mean ± std. dev. of 7 runs, 10000 loops each)\n"
     ]
    }
   ],
   "source": [
    "%timeit jarrow_rudd_bp(100.0, 100.0, 1.0, 0.3, 0.03, -1, 1, 100)"
   ]
  }
 ],
 "metadata": {
  "kernelspec": {
   "display_name": "Python 3",
   "language": "python",
   "name": "python3"
  },
  "language_info": {
   "codemirror_mode": {
    "name": "ipython",
    "version": 3
   },
   "file_extension": ".py",
   "mimetype": "text/x-python",
   "name": "python",
   "nbconvert_exporter": "python",
   "pygments_lexer": "ipython3",
   "version": "3.7.6"
  }
 },
 "nbformat": 4,
 "nbformat_minor": 4
}
